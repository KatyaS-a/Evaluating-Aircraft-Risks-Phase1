{
 "cells": [
  {
   "cell_type": "markdown",
   "id": "7ff49b45",
   "metadata": {},
   "source": [
    "# Cleaning 'AviationData.csv' from NTSB"
   ]
  },
  {
   "cell_type": "markdown",
   "id": "c34f87b3",
   "metadata": {},
   "source": [
    "The dataset can be found <a href=\"url\" target=\"https://www.kaggle.com/datasets/khsamaha/aviation-accident-database-synopses\">here</a>. Our goal is to identifying high-risk aircraft models to guide purchasing decisions."
   ]
  },
  {
   "cell_type": "markdown",
   "id": "866d1642",
   "metadata": {},
   "source": [
    "Our goals are:\n",
    "* to identifying high-risk aircraft models to guide purchasing decisions;\n",
    "* focus on aircraft safety to reduce costs and improve brand reputation;\n",
    "* explore weather conditions and their impact on accidents."
   ]
  },
  {
   "cell_type": "code",
   "execution_count": 1,
   "id": "97247c5f",
   "metadata": {},
   "outputs": [
    {
     "data": {
      "text/html": [
       "<div>\n",
       "<style scoped>\n",
       "    .dataframe tbody tr th:only-of-type {\n",
       "        vertical-align: middle;\n",
       "    }\n",
       "\n",
       "    .dataframe tbody tr th {\n",
       "        vertical-align: top;\n",
       "    }\n",
       "\n",
       "    .dataframe thead th {\n",
       "        text-align: right;\n",
       "    }\n",
       "</style>\n",
       "<table border=\"1\" class=\"dataframe\">\n",
       "  <thead>\n",
       "    <tr style=\"text-align: right;\">\n",
       "      <th></th>\n",
       "      <th>Investigation.Type</th>\n",
       "      <th>Accident.Number</th>\n",
       "      <th>Event.Date</th>\n",
       "      <th>Location</th>\n",
       "      <th>Country</th>\n",
       "      <th>Latitude</th>\n",
       "      <th>Longitude</th>\n",
       "      <th>Airport.Code</th>\n",
       "      <th>Airport.Name</th>\n",
       "      <th>Injury.Severity</th>\n",
       "      <th>...</th>\n",
       "      <th>Purpose.of.flight</th>\n",
       "      <th>Air.carrier</th>\n",
       "      <th>Total.Fatal.Injuries</th>\n",
       "      <th>Total.Serious.Injuries</th>\n",
       "      <th>Total.Minor.Injuries</th>\n",
       "      <th>Total.Uninjured</th>\n",
       "      <th>Weather.Condition</th>\n",
       "      <th>Broad.phase.of.flight</th>\n",
       "      <th>Report.Status</th>\n",
       "      <th>Publication.Date</th>\n",
       "    </tr>\n",
       "    <tr>\n",
       "      <th>Event.Id</th>\n",
       "      <th></th>\n",
       "      <th></th>\n",
       "      <th></th>\n",
       "      <th></th>\n",
       "      <th></th>\n",
       "      <th></th>\n",
       "      <th></th>\n",
       "      <th></th>\n",
       "      <th></th>\n",
       "      <th></th>\n",
       "      <th></th>\n",
       "      <th></th>\n",
       "      <th></th>\n",
       "      <th></th>\n",
       "      <th></th>\n",
       "      <th></th>\n",
       "      <th></th>\n",
       "      <th></th>\n",
       "      <th></th>\n",
       "      <th></th>\n",
       "      <th></th>\n",
       "    </tr>\n",
       "  </thead>\n",
       "  <tbody>\n",
       "    <tr>\n",
       "      <th>20001218X45444</th>\n",
       "      <td>Accident</td>\n",
       "      <td>SEA87LA080</td>\n",
       "      <td>1948-10-24</td>\n",
       "      <td>MOOSE CREEK, ID</td>\n",
       "      <td>United States</td>\n",
       "      <td>NaN</td>\n",
       "      <td>NaN</td>\n",
       "      <td>NaN</td>\n",
       "      <td>NaN</td>\n",
       "      <td>Fatal(2)</td>\n",
       "      <td>...</td>\n",
       "      <td>Personal</td>\n",
       "      <td>NaN</td>\n",
       "      <td>2.0</td>\n",
       "      <td>0.0</td>\n",
       "      <td>0.0</td>\n",
       "      <td>0.0</td>\n",
       "      <td>UNK</td>\n",
       "      <td>Cruise</td>\n",
       "      <td>Probable Cause</td>\n",
       "      <td>NaT</td>\n",
       "    </tr>\n",
       "    <tr>\n",
       "      <th>20001218X45447</th>\n",
       "      <td>Accident</td>\n",
       "      <td>LAX94LA336</td>\n",
       "      <td>1962-07-19</td>\n",
       "      <td>BRIDGEPORT, CA</td>\n",
       "      <td>United States</td>\n",
       "      <td>NaN</td>\n",
       "      <td>NaN</td>\n",
       "      <td>NaN</td>\n",
       "      <td>NaN</td>\n",
       "      <td>Fatal(4)</td>\n",
       "      <td>...</td>\n",
       "      <td>Personal</td>\n",
       "      <td>NaN</td>\n",
       "      <td>4.0</td>\n",
       "      <td>0.0</td>\n",
       "      <td>0.0</td>\n",
       "      <td>0.0</td>\n",
       "      <td>UNK</td>\n",
       "      <td>Unknown</td>\n",
       "      <td>Probable Cause</td>\n",
       "      <td>1996-09-19</td>\n",
       "    </tr>\n",
       "    <tr>\n",
       "      <th>20061025X01555</th>\n",
       "      <td>Accident</td>\n",
       "      <td>NYC07LA005</td>\n",
       "      <td>1974-08-30</td>\n",
       "      <td>Saltville, VA</td>\n",
       "      <td>United States</td>\n",
       "      <td>36.922223</td>\n",
       "      <td>-81.878056</td>\n",
       "      <td>NaN</td>\n",
       "      <td>NaN</td>\n",
       "      <td>Fatal(3)</td>\n",
       "      <td>...</td>\n",
       "      <td>Personal</td>\n",
       "      <td>NaN</td>\n",
       "      <td>3.0</td>\n",
       "      <td>NaN</td>\n",
       "      <td>NaN</td>\n",
       "      <td>NaN</td>\n",
       "      <td>IMC</td>\n",
       "      <td>Cruise</td>\n",
       "      <td>Probable Cause</td>\n",
       "      <td>2007-02-26</td>\n",
       "    </tr>\n",
       "    <tr>\n",
       "      <th>20001218X45448</th>\n",
       "      <td>Accident</td>\n",
       "      <td>LAX96LA321</td>\n",
       "      <td>1977-06-19</td>\n",
       "      <td>EUREKA, CA</td>\n",
       "      <td>United States</td>\n",
       "      <td>NaN</td>\n",
       "      <td>NaN</td>\n",
       "      <td>NaN</td>\n",
       "      <td>NaN</td>\n",
       "      <td>Fatal(2)</td>\n",
       "      <td>...</td>\n",
       "      <td>Personal</td>\n",
       "      <td>NaN</td>\n",
       "      <td>2.0</td>\n",
       "      <td>0.0</td>\n",
       "      <td>0.0</td>\n",
       "      <td>0.0</td>\n",
       "      <td>IMC</td>\n",
       "      <td>Cruise</td>\n",
       "      <td>Probable Cause</td>\n",
       "      <td>2000-09-12</td>\n",
       "    </tr>\n",
       "    <tr>\n",
       "      <th>20041105X01764</th>\n",
       "      <td>Accident</td>\n",
       "      <td>CHI79FA064</td>\n",
       "      <td>1979-08-02</td>\n",
       "      <td>Canton, OH</td>\n",
       "      <td>United States</td>\n",
       "      <td>NaN</td>\n",
       "      <td>NaN</td>\n",
       "      <td>NaN</td>\n",
       "      <td>NaN</td>\n",
       "      <td>Fatal(1)</td>\n",
       "      <td>...</td>\n",
       "      <td>Personal</td>\n",
       "      <td>NaN</td>\n",
       "      <td>1.0</td>\n",
       "      <td>2.0</td>\n",
       "      <td>NaN</td>\n",
       "      <td>0.0</td>\n",
       "      <td>VMC</td>\n",
       "      <td>Approach</td>\n",
       "      <td>Probable Cause</td>\n",
       "      <td>1980-04-16</td>\n",
       "    </tr>\n",
       "  </tbody>\n",
       "</table>\n",
       "<p>5 rows × 30 columns</p>\n",
       "</div>"
      ],
      "text/plain": [
       "               Investigation.Type Accident.Number Event.Date         Location  \\\n",
       "Event.Id                                                                        \n",
       "20001218X45444           Accident      SEA87LA080 1948-10-24  MOOSE CREEK, ID   \n",
       "20001218X45447           Accident      LAX94LA336 1962-07-19   BRIDGEPORT, CA   \n",
       "20061025X01555           Accident      NYC07LA005 1974-08-30    Saltville, VA   \n",
       "20001218X45448           Accident      LAX96LA321 1977-06-19       EUREKA, CA   \n",
       "20041105X01764           Accident      CHI79FA064 1979-08-02       Canton, OH   \n",
       "\n",
       "                      Country   Latitude   Longitude Airport.Code  \\\n",
       "Event.Id                                                            \n",
       "20001218X45444  United States        NaN         NaN          NaN   \n",
       "20001218X45447  United States        NaN         NaN          NaN   \n",
       "20061025X01555  United States  36.922223  -81.878056          NaN   \n",
       "20001218X45448  United States        NaN         NaN          NaN   \n",
       "20041105X01764  United States        NaN         NaN          NaN   \n",
       "\n",
       "               Airport.Name Injury.Severity  ... Purpose.of.flight  \\\n",
       "Event.Id                                     ...                     \n",
       "20001218X45444          NaN        Fatal(2)  ...          Personal   \n",
       "20001218X45447          NaN        Fatal(4)  ...          Personal   \n",
       "20061025X01555          NaN        Fatal(3)  ...          Personal   \n",
       "20001218X45448          NaN        Fatal(2)  ...          Personal   \n",
       "20041105X01764          NaN        Fatal(1)  ...          Personal   \n",
       "\n",
       "               Air.carrier Total.Fatal.Injuries Total.Serious.Injuries  \\\n",
       "Event.Id                                                                 \n",
       "20001218X45444         NaN                  2.0                    0.0   \n",
       "20001218X45447         NaN                  4.0                    0.0   \n",
       "20061025X01555         NaN                  3.0                    NaN   \n",
       "20001218X45448         NaN                  2.0                    0.0   \n",
       "20041105X01764         NaN                  1.0                    2.0   \n",
       "\n",
       "               Total.Minor.Injuries Total.Uninjured  Weather.Condition  \\\n",
       "Event.Id                                                                 \n",
       "20001218X45444                  0.0             0.0                UNK   \n",
       "20001218X45447                  0.0             0.0                UNK   \n",
       "20061025X01555                  NaN             NaN                IMC   \n",
       "20001218X45448                  0.0             0.0                IMC   \n",
       "20041105X01764                  NaN             0.0                VMC   \n",
       "\n",
       "               Broad.phase.of.flight   Report.Status Publication.Date  \n",
       "Event.Id                                                               \n",
       "20001218X45444                Cruise  Probable Cause              NaT  \n",
       "20001218X45447               Unknown  Probable Cause       1996-09-19  \n",
       "20061025X01555                Cruise  Probable Cause       2007-02-26  \n",
       "20001218X45448                Cruise  Probable Cause       2000-09-12  \n",
       "20041105X01764              Approach  Probable Cause       1980-04-16  \n",
       "\n",
       "[5 rows x 30 columns]"
      ]
     },
     "execution_count": 1,
     "metadata": {},
     "output_type": "execute_result"
    }
   ],
   "source": [
    "import pandas as pd\n",
    "import numpy as np\n",
    "import matplotlib.pyplot as plt\n",
    "import seaborn as sns\n",
    "\n",
    "# Custom date parser functions\n",
    "date_parser_1 = lambda x: pd.to_datetime(x, format='%Y-%m-%d')\n",
    "date_parser_2 = lambda x: pd.to_datetime(x, format='%d-%m-%Y')\n",
    "\n",
    "df = pd.read_csv('data/AviationData.csv', encoding='ISO-8859-1', converters={'Event.Date': date_parser_1, 'Publication.Date': date_parser_2}, index_col=0, low_memory=False)\n",
    "df.head()"
   ]
  },
  {
   "cell_type": "markdown",
   "id": "b449da93",
   "metadata": {},
   "source": [
    "Let's explore the dataset"
   ]
  },
  {
   "cell_type": "code",
   "execution_count": 2,
   "id": "c30ec33d",
   "metadata": {},
   "outputs": [
    {
     "data": {
      "text/plain": [
       "(88889, 30)"
      ]
     },
     "execution_count": 2,
     "metadata": {},
     "output_type": "execute_result"
    }
   ],
   "source": [
    "df.shape"
   ]
  },
  {
   "cell_type": "code",
   "execution_count": 3,
   "id": "bf199fc4",
   "metadata": {},
   "outputs": [
    {
     "name": "stdout",
     "output_type": "stream",
     "text": [
      "<class 'pandas.core.frame.DataFrame'>\n",
      "Index: 88889 entries, 20001218X45444 to 20221230106513\n",
      "Data columns (total 30 columns):\n",
      " #   Column                  Non-Null Count  Dtype         \n",
      "---  ------                  --------------  -----         \n",
      " 0   Investigation.Type      88889 non-null  object        \n",
      " 1   Accident.Number         88889 non-null  object        \n",
      " 2   Event.Date              88889 non-null  datetime64[ns]\n",
      " 3   Location                88837 non-null  object        \n",
      " 4   Country                 88663 non-null  object        \n",
      " 5   Latitude                34382 non-null  object        \n",
      " 6   Longitude               34373 non-null  object        \n",
      " 7   Airport.Code            50132 non-null  object        \n",
      " 8   Airport.Name            52704 non-null  object        \n",
      " 9   Injury.Severity         87889 non-null  object        \n",
      " 10  Aircraft.damage         85695 non-null  object        \n",
      " 11  Aircraft.Category       32287 non-null  object        \n",
      " 12  Registration.Number     87507 non-null  object        \n",
      " 13  Make                    88826 non-null  object        \n",
      " 14  Model                   88797 non-null  object        \n",
      " 15  Amateur.Built           88787 non-null  object        \n",
      " 16  Number.of.Engines       82805 non-null  float64       \n",
      " 17  Engine.Type             81793 non-null  object        \n",
      " 18  FAR.Description         32023 non-null  object        \n",
      " 19  Schedule                12582 non-null  object        \n",
      " 20  Purpose.of.flight       82697 non-null  object        \n",
      " 21  Air.carrier             16648 non-null  object        \n",
      " 22  Total.Fatal.Injuries    77488 non-null  float64       \n",
      " 23  Total.Serious.Injuries  76379 non-null  float64       \n",
      " 24  Total.Minor.Injuries    76956 non-null  float64       \n",
      " 25  Total.Uninjured         82977 non-null  float64       \n",
      " 26  Weather.Condition       84397 non-null  object        \n",
      " 27  Broad.phase.of.flight   61724 non-null  object        \n",
      " 28  Report.Status           82505 non-null  object        \n",
      " 29  Publication.Date        75118 non-null  datetime64[ns]\n",
      "dtypes: datetime64[ns](2), float64(5), object(23)\n",
      "memory usage: 21.0+ MB\n"
     ]
    }
   ],
   "source": [
    "df.info()"
   ]
  },
  {
   "cell_type": "code",
   "execution_count": 4,
   "id": "0f5bb479",
   "metadata": {},
   "outputs": [
    {
     "data": {
      "text/plain": [
       "0"
      ]
     },
     "execution_count": 4,
     "metadata": {},
     "output_type": "execute_result"
    }
   ],
   "source": [
    "# Check for duplicate rows\n",
    "df.duplicated().sum()"
   ]
  },
  {
   "cell_type": "code",
   "execution_count": 5,
   "id": "0d4fb8ce",
   "metadata": {},
   "outputs": [
    {
     "data": {
      "text/plain": [
       "Investigation.Type            0\n",
       "Accident.Number               0\n",
       "Event.Date                    0\n",
       "Location                     52\n",
       "Country                     226\n",
       "Latitude                  54507\n",
       "Longitude                 54516\n",
       "Airport.Code              38757\n",
       "Airport.Name              36185\n",
       "Injury.Severity            1000\n",
       "Aircraft.damage            3194\n",
       "Aircraft.Category         56602\n",
       "Registration.Number        1382\n",
       "Make                         63\n",
       "Model                        92\n",
       "Amateur.Built               102\n",
       "Number.of.Engines          6084\n",
       "Engine.Type                7096\n",
       "FAR.Description           56866\n",
       "Schedule                  76307\n",
       "Purpose.of.flight          6192\n",
       "Air.carrier               72241\n",
       "Total.Fatal.Injuries      11401\n",
       "Total.Serious.Injuries    12510\n",
       "Total.Minor.Injuries      11933\n",
       "Total.Uninjured            5912\n",
       "Weather.Condition          4492\n",
       "Broad.phase.of.flight     27165\n",
       "Report.Status              6384\n",
       "Publication.Date          13771\n",
       "dtype: int64"
      ]
     },
     "execution_count": 5,
     "metadata": {},
     "output_type": "execute_result"
    }
   ],
   "source": [
    "# Count missing values in each column\n",
    "df.isnull().sum()"
   ]
  },
  {
   "cell_type": "code",
   "execution_count": 6,
   "id": "526d26e2",
   "metadata": {},
   "outputs": [
    {
     "data": {
      "text/plain": [
       "Investigation.Type         0.00\n",
       "Accident.Number            0.00\n",
       "Event.Date                 0.00\n",
       "Location                   0.06\n",
       "Country                    0.25\n",
       "Latitude                  61.32\n",
       "Longitude                 61.33\n",
       "Airport.Code              43.60\n",
       "Airport.Name              40.71\n",
       "Injury.Severity            1.12\n",
       "Aircraft.damage            3.59\n",
       "Aircraft.Category         63.68\n",
       "Registration.Number        1.55\n",
       "Make                       0.07\n",
       "Model                      0.10\n",
       "Amateur.Built              0.11\n",
       "Number.of.Engines          6.84\n",
       "Engine.Type                7.98\n",
       "FAR.Description           63.97\n",
       "Schedule                  85.85\n",
       "Purpose.of.flight          6.97\n",
       "Air.carrier               81.27\n",
       "Total.Fatal.Injuries      12.83\n",
       "Total.Serious.Injuries    14.07\n",
       "Total.Minor.Injuries      13.42\n",
       "Total.Uninjured            6.65\n",
       "Weather.Condition          5.05\n",
       "Broad.phase.of.flight     30.56\n",
       "Report.Status              7.18\n",
       "Publication.Date          15.49\n",
       "dtype: float64"
      ]
     },
     "execution_count": 6,
     "metadata": {},
     "output_type": "execute_result"
    }
   ],
   "source": [
    "# Calculate the percentage of missing values in each column\n",
    "(df.isnull().sum() * 100 / len(df)).round(2)"
   ]
  },
  {
   "cell_type": "markdown",
   "id": "0ae8ad21",
   "metadata": {},
   "source": [
    "Let's drop columns with 40%+ missing values "
   ]
  },
  {
   "cell_type": "code",
   "execution_count": 7,
   "id": "babd1b9d",
   "metadata": {},
   "outputs": [],
   "source": [
    "df.drop(['Latitude', 'Longitude', 'Airport.Code', 'Airport.Name', 'Aircraft.Category', 'FAR.Description', 'Schedule', 'Air.carrier' ], axis=1, inplace=True)"
   ]
  },
  {
   "cell_type": "markdown",
   "id": "b3cc604a",
   "metadata": {},
   "source": [
    "Let's get unique values and their count for each columns"
   ]
  },
  {
   "cell_type": "code",
   "execution_count": 8,
   "id": "4d5fbb2b",
   "metadata": {},
   "outputs": [
    {
     "name": "stdout",
     "output_type": "stream",
     "text": [
      "Unique values in column 'Investigation.Type' (2): ['Accident' 'Incident'] \n",
      "\n",
      "Unique values in column 'Accident.Number' (88863): ['SEA87LA080' 'LAX94LA336' 'NYC07LA005' ... 'WPR23LA075' 'WPR23LA076'\n",
      " 'ERA23LA097'] \n",
      "\n",
      "Unique values in column 'Event.Date' (14782): <DatetimeArray>\n",
      "['1948-10-24 00:00:00', '1962-07-19 00:00:00', '1974-08-30 00:00:00',\n",
      " '1977-06-19 00:00:00', '1979-08-02 00:00:00', '1979-09-17 00:00:00',\n",
      " '1981-08-01 00:00:00', '1982-01-01 00:00:00', '1982-01-02 00:00:00',\n",
      " '1982-01-03 00:00:00',\n",
      " ...\n",
      " '2022-12-13 00:00:00', '2022-12-14 00:00:00', '2022-12-15 00:00:00',\n",
      " '2022-12-16 00:00:00', '2022-12-17 00:00:00', '2022-12-18 00:00:00',\n",
      " '2022-12-21 00:00:00', '2022-12-22 00:00:00', '2022-12-26 00:00:00',\n",
      " '2022-12-29 00:00:00']\n",
      "Length: 14782, dtype: datetime64[ns] \n",
      "\n",
      "Unique values in column 'Location' (27759): ['MOOSE CREEK, ID' 'BRIDGEPORT, CA' 'Saltville, VA' ... 'San Manual, AZ'\n",
      " 'Auburn Hills, MI' 'Brasnorte, '] \n",
      "\n",
      "Unique values in column 'Country' (220): ['United States' nan 'GULF OF MEXICO' 'Puerto Rico' 'ATLANTIC OCEAN'\n",
      " 'HIGH ISLAND' 'Bahamas' 'MISSING' 'Pakistan' 'Angola' 'Germany'\n",
      " 'Korea, Republic Of' 'Martinique' 'American Samoa' 'PACIFIC OCEAN'\n",
      " 'Canada' 'Bolivia' 'Mexico' 'Dominica' 'Netherlands Antilles' 'Iceland'\n",
      " 'Greece' 'Guam' 'Australia' 'CARIBBEAN SEA' 'West Indies' 'Japan'\n",
      " 'Philippines' 'Venezuela' 'Bermuda' 'San Juan Islands' 'Colombia'\n",
      " 'El Salvador' 'United Kingdom' 'British Virgin Islands' 'Netherlands'\n",
      " 'Costa Rica' 'Mozambique' 'Jamaica' 'Panama' 'Guyana' 'Norway'\n",
      " 'Hong Kong' 'Portugal' 'Malaysia' 'Turks And Caicos Islands'\n",
      " 'Northern Mariana Islands' 'Dominican Republic' 'Suriname' 'Honduras'\n",
      " 'Congo' 'Belize' 'Guatemala' 'Anguilla' 'France'\n",
      " 'St Vincent And The Grenadines' 'Haiti' 'Montserrat' 'Papua New Guinea'\n",
      " 'Cayman Islands' 'Sweden' 'Taiwan' 'Senegal' 'Barbados' 'BLOCK 651A'\n",
      " 'Brazil' 'Mauritius' 'Argentina' 'Kenya' 'Ecuador' 'Aruba' 'Saudi Arabia'\n",
      " 'Cuba' 'Italy' 'French Guiana' 'Denmark' 'Sudan' 'Spain'\n",
      " 'Federated States Of Micronesia' 'St Lucia' 'Switzerland'\n",
      " 'Central African Republic' 'Algeria' 'Turkey' 'Nicaragua'\n",
      " 'Marshall Islands' 'Trinidad And Tobago' 'Poland' 'Belarus' 'Austria'\n",
      " 'Malta' 'Cameroon' 'Solomon Islands' 'Zambia' 'Peru' 'Croatia' 'Fiji'\n",
      " 'South Africa' 'India' 'Ethiopia' 'Ireland' 'Chile' 'Antigua And Barbuda'\n",
      " 'Uganda' 'China' 'Cambodia' 'Paraguay' 'Thailand' 'Belgium' 'Gambia'\n",
      " 'Uruguay' 'Tanzania' 'Mali' 'Indonesia' 'Bahrain' 'Kazakhstan' 'Egypt'\n",
      " 'Russia' 'Cyprus' \"Cote D'ivoire\" 'Nigeria' 'Greenland' 'Vietnam'\n",
      " 'New Zealand' 'Singapore' 'Ghana' 'Gabon' 'Nepal' 'Slovakia' 'Finland'\n",
      " 'Liberia' 'Romania' 'Maldives' 'Antarctica' 'Zimbabwe' 'Botswana'\n",
      " 'Isle of Man' 'Latvia' 'Niger' 'French Polynesia' 'Guadeloupe'\n",
      " 'Ivory Coast' 'Tunisia' 'Eritrea' 'Gibraltar' 'Namibia' 'Czech Republic'\n",
      " 'Benin' 'Bosnia And Herzegovina' 'Israel' 'Estonia' 'St Kitts And Nevis'\n",
      " 'Sierra Leone' 'Corsica' 'Scotland' 'Reunion' 'United Arab Emirates'\n",
      " 'Afghanistan' 'Ukraine' 'Hungary' 'Bangladesh' 'Morocco' 'Iraq' 'Jordan'\n",
      " 'Qatar' 'Madagascar' 'Malawi' 'Unknown' 'Central Africa' 'South Sudan'\n",
      " 'Saint Barthelemy' 'Micronesia' 'South Korea' 'Kyrgyzstan'\n",
      " 'Turks And Caicos' 'Eswatini' 'Tokelau' 'Sint Maarten' 'Macao'\n",
      " 'Seychelles' 'Rwanda' 'Palau' 'Luxembourg' 'Lebanon'\n",
      " 'Bosnia and Herzegovina' 'Libya' 'Guinea'\n",
      " 'Saint Vincent and the Grenadines' 'UN' 'Iran' 'Lithuania' 'Malampa'\n",
      " 'Antigua and Barbuda' 'AY' 'Chad' 'Cayenne' 'New Caledonia' 'Yemen'\n",
      " 'Slovenia' 'Nauru' 'Niue' 'Bulgaria' 'Republic of North Macedonia'\n",
      " 'Virgin Islands' 'Somalia' 'Pacific Ocean' 'Obyan' 'Mauritania' 'Albania'\n",
      " 'Wolseley' 'Wallis and Futuna' 'Saint Pierre and Miquelon' 'Georgia'\n",
      " \"Côte d'Ivoire\" 'South Korean' 'Serbia' 'MU' 'Guernsey' 'Great Britain'\n",
      " 'Turks and Caicos Islands'] \n",
      "\n",
      "Unique values in column 'Injury.Severity' (110): ['Fatal(2)' 'Fatal(4)' 'Fatal(3)' 'Fatal(1)' 'Non-Fatal' 'Incident'\n",
      " 'Fatal(8)' 'Fatal(78)' 'Fatal(7)' 'Fatal(6)' 'Fatal(5)' 'Fatal(153)'\n",
      " 'Fatal(12)' 'Fatal(14)' 'Fatal(23)' 'Fatal(10)' 'Fatal(11)' 'Fatal(9)'\n",
      " 'Fatal(17)' 'Fatal(13)' 'Fatal(29)' 'Fatal(70)' 'Unavailable'\n",
      " 'Fatal(135)' 'Fatal(31)' 'Fatal(256)' 'Fatal(25)' 'Fatal(82)'\n",
      " 'Fatal(156)' 'Fatal(28)' 'Fatal(18)' 'Fatal(43)' 'Fatal(15)' 'Fatal(270)'\n",
      " 'Fatal(144)' 'Fatal(174)' 'Fatal(111)' 'Fatal(131)' 'Fatal(20)'\n",
      " 'Fatal(73)' 'Fatal(27)' 'Fatal(34)' 'Fatal(87)' 'Fatal(30)' 'Fatal(16)'\n",
      " 'Fatal(47)' 'Fatal(56)' 'Fatal(37)' 'Fatal(132)' 'Fatal(68)' 'Fatal(54)'\n",
      " 'Fatal(52)' 'Fatal(65)' 'Fatal(72)' 'Fatal(160)' 'Fatal(189)'\n",
      " 'Fatal(123)' 'Fatal(33)' 'Fatal(110)' 'Fatal(230)' 'Fatal(97)'\n",
      " 'Fatal(349)' 'Fatal(125)' 'Fatal(35)' 'Fatal(228)' 'Fatal(75)'\n",
      " 'Fatal(104)' 'Fatal(229)' 'Fatal(80)' 'Fatal(217)' 'Fatal(169)'\n",
      " 'Fatal(88)' 'Fatal(19)' 'Fatal(60)' 'Fatal(113)' 'Fatal(143)' 'Fatal(83)'\n",
      " 'Fatal(24)' 'Fatal(44)' 'Fatal(64)' 'Fatal(92)' 'Fatal(118)' 'Fatal(265)'\n",
      " 'Fatal(26)' 'Fatal(138)' 'Fatal(206)' 'Fatal(71)' 'Fatal(21)' 'Fatal(46)'\n",
      " 'Fatal(102)' 'Fatal(115)' 'Fatal(141)' 'Fatal(55)' 'Fatal(121)'\n",
      " 'Fatal(45)' 'Fatal(145)' 'Fatal(117)' 'Fatal(107)' 'Fatal(124)'\n",
      " 'Fatal(49)' 'Fatal(154)' 'Fatal(96)' 'Fatal(114)' 'Fatal(199)'\n",
      " 'Fatal(89)' 'Fatal(57)' 'Fatal' nan 'Minor' 'Serious'] \n",
      "\n",
      "Unique values in column 'Aircraft.damage' (5): ['Destroyed' 'Substantial' 'Minor' nan 'Unknown'] \n",
      "\n",
      "Unique values in column 'Registration.Number' (79105): ['NC6404' 'N5069P' 'N5142R' ... 'N749PJ' 'N210CU' 'N9026P'] \n",
      "\n",
      "Unique values in column 'Make' (8238): ['Stinson' 'Piper' 'Cessna' ... 'JAMES R DERNOVSEK' 'ORLICAN S R O'\n",
      " 'ROYSE RALPH L'] \n",
      "\n",
      "Unique values in column 'Model' (12319): ['108-3' 'PA24-180' '172M' ... 'ROTORWAY EXEC 162-F' 'KITFOX S5'\n",
      " 'M-8 EAGLE'] \n",
      "\n",
      "Unique values in column 'Amateur.Built' (3): ['No' 'Yes' nan] \n",
      "\n",
      "Unique values in column 'Number.of.Engines' (8): [ 1. nan  2.  0.  3.  4.  8.  6.] \n",
      "\n",
      "Unique values in column 'Engine.Type' (13): ['Reciprocating' nan 'Turbo Fan' 'Turbo Shaft' 'Unknown' 'Turbo Prop'\n",
      " 'Turbo Jet' 'Electric' 'Hybrid Rocket' 'Geared Turbofan' 'LR' 'NONE'\n",
      " 'UNK'] \n",
      "\n",
      "Unique values in column 'Purpose.of.flight' (27): ['Personal' nan 'Business' 'Instructional' 'Unknown' 'Ferry'\n",
      " 'Executive/corporate' 'Aerial Observation' 'Aerial Application'\n",
      " 'Public Aircraft' 'Skydiving' 'Other Work Use' 'Positioning'\n",
      " 'Flight Test' 'Air Race/show' 'Air Drop' 'Public Aircraft - Federal'\n",
      " 'Glider Tow' 'Public Aircraft - Local' 'External Load'\n",
      " 'Public Aircraft - State' 'Banner Tow' 'Firefighting' 'Air Race show'\n",
      " 'PUBS' 'ASHO' 'PUBL'] \n",
      "\n",
      "Unique values in column 'Total.Fatal.Injuries' (126): [  2.   4.   3.   1.  nan   0.   8.  78.   7.   6.   5. 153.  12.  14.\n",
      "  23.  10.  11.   9.  17.  13.  29.  70. 135.  31. 256.  25.  82. 156.\n",
      "  28.  18.  43.  15. 270. 144. 174. 111. 131.  20.  73.  27.  34.  87.\n",
      "  30.  16.  47.  56.  37. 132.  68.  54.  52.  65.  72. 160. 189. 123.\n",
      "  33. 110. 230.  97. 349. 125.  35. 228.  75. 104. 229.  80. 217. 169.\n",
      "  88.  19.  60. 113. 143.  83.  24.  44.  64.  92. 118. 265.  26. 138.\n",
      " 206.  71.  21.  46. 102. 115. 141.  55. 121.  45. 145. 117. 107. 124.\n",
      "  49. 154.  96. 114. 199.  89.  57. 152.  90. 103. 158. 157.  42.  77.\n",
      " 127.  50. 239. 295.  58. 162. 150. 224.  62.  66. 112. 188.  41. 176.] \n",
      "\n",
      "Unique values in column 'Total.Serious.Injuries' (51): [  0.  nan   2.   1.   6.   4.   5.  10.   3.   8.   9.   7.  15.  17.\n",
      "  28.  26.  47.  14.  81.  13. 106.  60.  16.  21.  50.  44.  18.  12.\n",
      "  45.  39.  43.  11.  25.  59.  23.  55.  63.  88.  41.  34.  53.  33.\n",
      "  67.  35.  20. 137.  19.  27. 125. 161.  22.] \n",
      "\n",
      "Unique values in column 'Total.Minor.Injuries' (58): [  0.  nan   1.   3.   2.   4.  24.   6.   5.  25.  17.  19.  33.  14.\n",
      "   8.  13.  15.   7.   9.  16.  20.  11.  12.  10.  38.  42.  29.  62.\n",
      "  28.  31.  39.  32.  18.  27.  57.  50.  23. 125.  45.  26.  36.  69.\n",
      "  21.  96.  30.  22.  58. 171.  65.  71. 200.  68.  47. 380.  35.  43.\n",
      "  84.  40.] \n",
      "\n",
      "Unique values in column 'Total.Uninjured' (380): [  0.  nan  44.   2.   1.   3.   6.   4. 149.  12. 182. 154.   5.  10.\n",
      "   7. 119.  36.  51.  16.  83.   9.  68.  30.  20.  18.   8. 108.  11.\n",
      " 152.  21.  48.  56. 113. 129. 109.  29.  13.  84.  74. 142. 102. 393.\n",
      " 128. 112.  17.  65.  67. 136.  23. 116.  22.  57.  58.  73. 203.  31.\n",
      " 201. 412. 159.  39. 186. 588.  82.  95. 146. 190. 245. 172.  52.  25.\n",
      "  59. 131. 151. 180. 150.  86.  19. 133. 240.  15. 145. 125. 440.  77.\n",
      " 122. 205. 289. 110.  79.  66.  87.  78.  49. 104. 250.  33. 138. 100.\n",
      "  53. 158. 127. 160. 260.  47.  38. 165. 495.  81.  41.  14.  72.  98.\n",
      " 263. 188. 239.  27. 105. 111. 212. 157.  46. 121.  75.  71.  45.  91.\n",
      "  99.  85.  96.  50.  93. 276. 365. 371. 200. 103. 189.  37. 107.  61.\n",
      "  26. 271. 130.  89. 439. 132. 219.  43. 238. 195. 118. 175.  32. 507.\n",
      " 421.  90. 225. 269. 169. 236. 224. 134. 106. 331. 140.  94. 192. 161.\n",
      " 270.  69. 436. 213. 233. 115.  42. 167. 137. 114. 148. 222.  92. 375.\n",
      "  76. 171. 173. 246. 234. 123. 220. 202. 408. 279. 363. 135. 528. 334.\n",
      " 178. 147. 126.  62.  70.  97. 228. 226.  64. 290. 206. 297. 349. 208.\n",
      " 144.  54.  24. 258. 304. 274. 286.  55. 199. 221.  80. 272. 211. 262.\n",
      " 441. 194. 309. 185. 261. 241. 383. 177. 259. 244. 254. 156.  40.  34.\n",
      " 247. 176.  63.  28. 218. 282. 320. 204. 124. 215. 298. 120. 280. 179.\n",
      " 315. 461. 153.  60. 308.  88. 361. 277. 191. 235. 187. 101. 162.  35.\n",
      " 197. 193. 164. 370. 387. 163. 139. 267. 357. 339. 288. 231. 300. 255.\n",
      " 306. 443. 385. 248. 459. 141. 414. 229. 166. 209. 184. 168. 170. 198.\n",
      " 299. 573. 223. 265. 322. 196. 117. 253. 399. 360. 252. 217. 155. 183.\n",
      " 227. 249. 329. 340. 699. 325. 287. 143. 243. 230. 386. 181. 257. 283.\n",
      " 404. 319. 450. 356. 216. 174. 558. 214. 448. 324. 338. 273. 232. 401.\n",
      " 312. 368. 501. 237. 307. 296. 291. 403. 314. 285. 311. 293. 352. 332.\n",
      " 384. 275. 210. 268. 326. 454. 278. 576. 380. 394. 362. 397. 359. 264.\n",
      " 333. 367. 302. 348. 351. 358. 295. 321. 521. 301. 294. 378. 207. 406.\n",
      " 251. 455.] \n",
      "\n",
      "Unique values in column 'Weather.Condition' (5): ['UNK' 'IMC' 'VMC' nan 'Unk'] \n",
      "\n",
      "Unique values in column 'Broad.phase.of.flight' (13): ['Cruise' 'Unknown' 'Approach' 'Climb' 'Takeoff' 'Landing' 'Taxi'\n",
      " 'Descent' 'Maneuvering' 'Standing' 'Go-around' 'Other' nan] \n",
      "\n",
      "Unique values in column 'Report.Status' (17075): ['Probable Cause' 'Factual' 'Foreign' ...\n",
      " 'The pilot did not ensure adequate clearance from construction vehicles during taxi.'\n",
      " 'The pilot\\x92s failure to secure the magneto switch before attempting to hand rotate the engine which resulted in an inadvertent engine start, a runaway airplane, and subsequent impact with parked airplanes. Contributing to the accident was the failure to properly secure the airplane with chocks.'\n",
      " 'The pilot\\x92s loss of control due to a wind gust during landing.'] \n",
      "\n",
      "Unique values in column 'Publication.Date' (2925): <DatetimeArray>\n",
      "[                'NaT', '1996-09-19 00:00:00', '2007-02-26 00:00:00',\n",
      " '2000-09-12 00:00:00', '1980-04-16 00:00:00', '2017-09-19 00:00:00',\n",
      " '2001-11-06 00:00:00', '1982-01-01 00:00:00', '1983-01-02 00:00:00',\n",
      " '1983-01-03 00:00:00',\n",
      " ...\n",
      " '2022-11-21 00:00:00', '2022-12-30 00:00:00', '2022-12-09 00:00:00',\n",
      " '2022-12-14 00:00:00', '2022-12-19 00:00:00', '2022-11-25 00:00:00',\n",
      " '2022-12-13 00:00:00', '2022-12-22 00:00:00', '2022-12-23 00:00:00',\n",
      " '2022-12-29 00:00:00']\n",
      "Length: 2925, dtype: datetime64[ns] \n",
      "\n"
     ]
    }
   ],
   "source": [
    "unique_values_dict = {col: df[col].unique() for col in df.columns}\n",
    "\n",
    "for column, unique_vals in unique_values_dict.items():\n",
    "    unique_count = len(unique_vals)\n",
    "    print(f\"Unique values in column '{column}' ({unique_count}): {unique_vals}\", '\\n')"
   ]
  },
  {
   "cell_type": "markdown",
   "id": "2802987b",
   "metadata": {},
   "source": [
    "Let's explore 'Country' variable"
   ]
  },
  {
   "cell_type": "code",
   "execution_count": 9,
   "id": "1a005a89",
   "metadata": {},
   "outputs": [
    {
     "data": {
      "text/plain": [
       "Country\n",
       "United States                       82248\n",
       "Brazil                                374\n",
       "Canada                                359\n",
       "Mexico                                358\n",
       "United Kingdom                        344\n",
       "                                    ...  \n",
       "Seychelles                              1\n",
       "Palau                                   1\n",
       "Libya                                   1\n",
       "Saint Vincent and the Grenadines        1\n",
       "Turks and Caicos Islands                1\n",
       "Name: count, Length: 219, dtype: int64"
      ]
     },
     "execution_count": 9,
     "metadata": {},
     "output_type": "execute_result"
    }
   ],
   "source": [
    "df['Country'].value_counts()"
   ]
  },
  {
   "cell_type": "code",
   "execution_count": 10,
   "id": "3fe9c704",
   "metadata": {},
   "outputs": [
    {
     "data": {
      "text/plain": [
       "Country\n",
       "United States    82248\n",
       "Name: count, dtype: int64"
      ]
     },
     "execution_count": 10,
     "metadata": {},
     "output_type": "execute_result"
    }
   ],
   "source": [
    "# Drop all rows where 'Country' is not 'United States'\n",
    "df = df[df['Country']=='United States']\n",
    "df['Country'].value_counts()"
   ]
  },
  {
   "cell_type": "markdown",
   "id": "81723658",
   "metadata": {},
   "source": [
    "Let's explore 'Amateur.Built' column"
   ]
  },
  {
   "cell_type": "code",
   "execution_count": 11,
   "id": "aa01f42d",
   "metadata": {},
   "outputs": [
    {
     "data": {
      "text/plain": [
       "Amateur.Built\n",
       "No     73906\n",
       "Yes     8321\n",
       "Name: count, dtype: int64"
      ]
     },
     "execution_count": 11,
     "metadata": {},
     "output_type": "execute_result"
    }
   ],
   "source": [
    "df['Amateur.Built'].value_counts()"
   ]
  },
  {
   "cell_type": "code",
   "execution_count": 12,
   "id": "43f442d7",
   "metadata": {},
   "outputs": [],
   "source": [
    "# Remove all aircraft unless not amateur built\n",
    "df = df[df['Amateur.Built']=='No']"
   ]
  },
  {
   "cell_type": "markdown",
   "id": "0661ea57",
   "metadata": {},
   "source": [
    "Let's explore 'Number.of.Engines' column"
   ]
  },
  {
   "cell_type": "code",
   "execution_count": 13,
   "id": "5e415ec4",
   "metadata": {},
   "outputs": [
    {
     "data": {
      "text/plain": [
       "Number.of.Engines\n",
       "1.0    60409\n",
       "2.0    10010\n",
       "0.0     1045\n",
       "3.0      430\n",
       "4.0      339\n",
       "8.0        3\n",
       "6.0        1\n",
       "Name: count, dtype: int64"
      ]
     },
     "execution_count": 13,
     "metadata": {},
     "output_type": "execute_result"
    }
   ],
   "source": [
    "df['Number.of.Engines'].value_counts()"
   ]
  },
  {
   "cell_type": "code",
   "execution_count": 14,
   "id": "071abd7c",
   "metadata": {},
   "outputs": [],
   "source": [
    "# Replace missing values in \"Number.of.Engines\" with -1\n",
    "df['Number.of.Engines'] = df['Number.of.Engines'].fillna(-1)"
   ]
  },
  {
   "cell_type": "code",
   "execution_count": 15,
   "id": "457e122a",
   "metadata": {},
   "outputs": [
    {
     "data": {
      "text/plain": [
       "Engine.Type\n",
       "Reciprocating    60672\n",
       "Unknown           4046\n",
       "Turbo Shaft       3303\n",
       "Turbo Prop        3130\n",
       "Turbo Fan         2087\n",
       "Turbo Jet          654\n",
       "Electric            10\n",
       "LR                   2\n",
       "Hybrid Rocket        1\n",
       "NONE                 1\n",
       "Name: count, dtype: int64"
      ]
     },
     "execution_count": 15,
     "metadata": {},
     "output_type": "execute_result"
    }
   ],
   "source": [
    "df['Engine.Type'] = df['Engine.Type'].replace(['UNK'], 'Unknown')\n",
    "df['Engine.Type'] = df['Engine.Type'].fillna('Unknown')\n",
    "\n",
    "df['Engine.Type'].value_counts()"
   ]
  },
  {
   "cell_type": "markdown",
   "id": "bd409e64",
   "metadata": {},
   "source": [
    "Drop rows with missing values for 'Model' and 'Make'"
   ]
  },
  {
   "cell_type": "code",
   "execution_count": 16,
   "id": "4dd50ec0",
   "metadata": {},
   "outputs": [],
   "source": [
    "df.dropna(subset=['Model'], inplace=True)"
   ]
  },
  {
   "cell_type": "code",
   "execution_count": 17,
   "id": "ce75fde2",
   "metadata": {},
   "outputs": [],
   "source": [
    "df.dropna(subset=['Make'], inplace=True)"
   ]
  },
  {
   "cell_type": "markdown",
   "id": "eedd45b2",
   "metadata": {},
   "source": [
    "Let's explore 'Purpose.of.Flight' variable"
   ]
  },
  {
   "cell_type": "code",
   "execution_count": 18,
   "id": "0947c3f2",
   "metadata": {},
   "outputs": [
    {
     "data": {
      "text/plain": [
       "Purpose.of.flight\n",
       "Personal                     41128\n",
       "Instructional                10169\n",
       "Unknown                       5451\n",
       "Aerial Application            4611\n",
       "Business                      3779\n",
       "Positioning                   1546\n",
       "Other Work Use                1179\n",
       "Aerial Observation             704\n",
       "Ferry                          693\n",
       "Public Aircraft                668\n",
       "Executive/corporate            502\n",
       "Flight Test                    233\n",
       "Skydiving                      171\n",
       "External Load                  111\n",
       "Banner Tow                     101\n",
       "Public Aircraft - Federal       97\n",
       "Public Aircraft - Local         74\n",
       "Public Aircraft - State         62\n",
       "Air Race show                   58\n",
       "Glider Tow                      52\n",
       "Air Race/show                   38\n",
       "Firefighting                    29\n",
       "Air Drop                         8\n",
       "ASHO                             5\n",
       "PUBS                             4\n",
       "PUBL                             1\n",
       "Name: count, dtype: int64"
      ]
     },
     "execution_count": 18,
     "metadata": {},
     "output_type": "execute_result"
    }
   ],
   "source": [
    "df['Purpose.of.flight'].value_counts()"
   ]
  },
  {
   "cell_type": "code",
   "execution_count": 19,
   "id": "56eb67f3",
   "metadata": {},
   "outputs": [],
   "source": [
    "# 'Purpose,of.flight'\n",
    "df['Purpose.of.flight'] = df['Purpose.of.flight'].fillna('Unknown')\n",
    "df['Purpose.of.flight'] = df['Purpose.of.flight'].replace('Air Race show', 'Air Race/show')"
   ]
  },
  {
   "cell_type": "code",
   "execution_count": 20,
   "id": "cfc612a4",
   "metadata": {},
   "outputs": [],
   "source": [
    "# Replace values in 'Purpose.of.flight'\n",
    "df['Purpose.of.flight'] = df['Purpose.of.flight'].replace(['Public Aircraft - Local', \n",
    "                                                           'Public Aircraft - State', 'Public Aircraft - Federal'], 'Public Aircraft')"
   ]
  },
  {
   "cell_type": "code",
   "execution_count": 21,
   "id": "71798097",
   "metadata": {},
   "outputs": [],
   "source": [
    "# Replace nan values with 'Unknown'\n",
    "df['Purpose.of.flight'] = df['Purpose.of.flight'].fillna('Unknown')"
   ]
  },
  {
   "cell_type": "markdown",
   "id": "80fda5d6",
   "metadata": {},
   "source": [
    "Replace missing values with 'Unknown' in 'Broad.phase.of.flight'"
   ]
  },
  {
   "cell_type": "code",
   "execution_count": 22,
   "id": "5752fe28",
   "metadata": {},
   "outputs": [
    {
     "data": {
      "text/plain": [
       "Broad.phase.of.flight\n",
       "Unknown        18731\n",
       "Landing        14441\n",
       "Takeoff        10953\n",
       "Cruise          9180\n",
       "Maneuvering     7104\n",
       "Approach        5806\n",
       "Taxi            1860\n",
       "Climb           1800\n",
       "Descent         1741\n",
       "Go-around       1270\n",
       "Standing         904\n",
       "Other             99\n",
       "Name: count, dtype: int64"
      ]
     },
     "execution_count": 22,
     "metadata": {},
     "output_type": "execute_result"
    }
   ],
   "source": [
    "df['Broad.phase.of.flight'] = df['Broad.phase.of.flight'].fillna('Unknown')\n",
    "\n",
    "df['Broad.phase.of.flight'].value_counts()"
   ]
  },
  {
   "cell_type": "markdown",
   "id": "b7a6554e",
   "metadata": {},
   "source": [
    "Let's explore 'Weather.Condition' variable"
   ]
  },
  {
   "cell_type": "code",
   "execution_count": 23,
   "id": "5048ca39",
   "metadata": {},
   "outputs": [
    {
     "data": {
      "text/plain": [
       "Weather.Condition\n",
       "VMC    67162\n",
       "IMC     5484\n",
       "UNK      509\n",
       "Unk      117\n",
       "Name: count, dtype: int64"
      ]
     },
     "execution_count": 23,
     "metadata": {},
     "output_type": "execute_result"
    }
   ],
   "source": [
    "# 'Weather.Condition' (5): ['UNK' 'IMC' 'VMC' nan 'Unk'] \n",
    "df['Weather.Condition'].value_counts()"
   ]
  },
  {
   "cell_type": "code",
   "execution_count": 24,
   "id": "15f61830",
   "metadata": {},
   "outputs": [],
   "source": [
    "# Replace \"UNK\" and \"Unk\" in 'Weather.Condition' column with 'Unknown'\n",
    "df['Weather.Condition'] = df['Weather.Condition'].replace(['UNK', 'Unk'], 'Unknown')\n",
    "\n",
    "# Replace nan values with 'Unknown'\n",
    "df['Weather.Condition'] = df['Weather.Condition'].fillna('Unknown')"
   ]
  },
  {
   "cell_type": "code",
   "execution_count": 25,
   "id": "690eb6f7",
   "metadata": {},
   "outputs": [
    {
     "data": {
      "text/plain": [
       "Weather.Condition\n",
       "VMC        67162\n",
       "IMC         5484\n",
       "Unknown     1243\n",
       "Name: count, dtype: int64"
      ]
     },
     "execution_count": 25,
     "metadata": {},
     "output_type": "execute_result"
    }
   ],
   "source": [
    "df['Weather.Condition'].value_counts()"
   ]
  },
  {
   "cell_type": "code",
   "execution_count": 26,
   "id": "358a6849",
   "metadata": {},
   "outputs": [],
   "source": [
    "# Let's replace missing values in 'Report.Status' with 'Unknown'"
   ]
  },
  {
   "cell_type": "code",
   "execution_count": 27,
   "id": "8377d1c6",
   "metadata": {},
   "outputs": [],
   "source": [
    "df['Report.Status'] = df['Report.Status'].fillna('Unknown')"
   ]
  },
  {
   "cell_type": "markdown",
   "id": "7ba5e715",
   "metadata": {},
   "source": [
    "We can remove irrelevant columns that willl not be usefull in our analysis"
   ]
  },
  {
   "cell_type": "code",
   "execution_count": 28,
   "id": "aae9bdf8",
   "metadata": {},
   "outputs": [
    {
     "ename": "SyntaxError",
     "evalue": "incomplete input (844856539.py, line 1)",
     "output_type": "error",
     "traceback": [
      "\u001b[0;36m  Cell \u001b[0;32mIn[28], line 1\u001b[0;36m\u001b[0m\n\u001b[0;31m    df.drop(['Accident.Number', 'Location', 'Country', 'Registration.Number', 'Publication.Date', 'Amateur.Built' ], axis=1, inplace=True\u001b[0m\n\u001b[0m                                                                                                                                         ^\u001b[0m\n\u001b[0;31mSyntaxError\u001b[0m\u001b[0;31m:\u001b[0m incomplete input\n"
     ]
    }
   ],
   "source": [
    "df.drop(['Accident.Number', 'Location', 'Country', 'Registration.Number', 'Publication.Date', 'Amateur.Built' ], axis=1, inplace=True"
   ]
  },
  {
   "cell_type": "markdown",
   "id": "6c756232",
   "metadata": {},
   "source": [
    "Let's explore 'Aircraft.damage' variable"
   ]
  },
  {
   "cell_type": "code",
   "execution_count": null,
   "id": "a18ad83b",
   "metadata": {},
   "outputs": [],
   "source": [
    "df['Aircraft.damage'].value_counts()"
   ]
  },
  {
   "cell_type": "code",
   "execution_count": null,
   "id": "fe26aed2",
   "metadata": {},
   "outputs": [],
   "source": [
    "# Replace nan values with 'Unknown' in 'Aircraft.damage'\n",
    "df['Aircraft.damage'] = df['Aircraft.damage'].fillna('Unknown')"
   ]
  },
  {
   "cell_type": "markdown",
   "id": "e3be4e1b",
   "metadata": {},
   "source": [
    "There are only a few instances before January 1, 1982. Let' s remove them"
   ]
  },
  {
   "cell_type": "code",
   "execution_count": null,
   "id": "314a0ff4",
   "metadata": {},
   "outputs": [],
   "source": [
    "# Remove instances before 1982\n",
    "df = df[df['Event.Date'] >= '1982-01-01']"
   ]
  },
  {
   "cell_type": "markdown",
   "id": "5ba7ba76",
   "metadata": {},
   "source": [
    "We can remove rows with missing values for 'Injury.Severity' (no info on any number of people)"
   ]
  },
  {
   "cell_type": "code",
   "execution_count": null,
   "id": "2f96bf10",
   "metadata": {},
   "outputs": [],
   "source": [
    "df.dropna(subset=['Injury.Severity'], inplace=True)"
   ]
  },
  {
   "cell_type": "markdown",
   "id": "c85a2120",
   "metadata": {},
   "source": [
    "Let's reexamine the data"
   ]
  },
  {
   "cell_type": "code",
   "execution_count": null,
   "id": "ca113c7e",
   "metadata": {},
   "outputs": [],
   "source": [
    "df.info()"
   ]
  },
  {
   "cell_type": "code",
   "execution_count": null,
   "id": "52bb1cd6",
   "metadata": {},
   "outputs": [],
   "source": [
    "# Calculate the percentage of missing values in each column\n",
    "(df.isnull().sum() * 100 / len(df)).round(2)"
   ]
  },
  {
   "cell_type": "markdown",
   "id": "781ff4ce",
   "metadata": {},
   "source": [
    "Missing values in columns Total.Fatal.Injuries, Total.Serious.Injuries, Total.Minor.Injuries and Total.Uninjured\n",
    "are in the years 2001 to 2007.\n",
    "Replace them with 0."
   ]
  },
  {
   "cell_type": "code",
   "execution_count": null,
   "id": "8d5c3af9",
   "metadata": {},
   "outputs": [],
   "source": [
    "columns_to_fill = ['Total.Fatal.Injuries', 'Total.Serious.Injuries', 'Total.Minor.Injuries', 'Total.Uninjured']\n",
    "\n",
    "df[columns_to_fill] = df[columns_to_fill].fillna(0)"
   ]
  },
  {
   "cell_type": "code",
   "execution_count": null,
   "id": "595aaa8a",
   "metadata": {},
   "outputs": [],
   "source": [
    "(df.isnull().sum() * 100 / len(df)).round(2)"
   ]
  },
  {
   "cell_type": "markdown",
   "id": "a1d19405",
   "metadata": {},
   "source": [
    "### Cleaning 'Make' variable"
   ]
  },
  {
   "cell_type": "code",
   "execution_count": null,
   "id": "a0b12566",
   "metadata": {},
   "outputs": [],
   "source": [
    "# Set option to display all columns\n",
    "pd.set_option('display.max_rows', None)\n",
    "df['Make'].value_counts()"
   ]
  },
  {
   "cell_type": "code",
   "execution_count": null,
   "id": "3c24d34e",
   "metadata": {},
   "outputs": [],
   "source": [
    "# Convert all values in 'Make to lower case'\n",
    "df['Make'] = df['Make'].str.lower()"
   ]
  },
  {
   "cell_type": "code",
   "execution_count": null,
   "id": "a1b12f34",
   "metadata": {},
   "outputs": [],
   "source": [
    "df['Make'].value_counts().nunique()"
   ]
  },
  {
   "cell_type": "code",
   "execution_count": null,
   "id": "dd505191",
   "metadata": {},
   "outputs": [],
   "source": [
    "# Find rows where 'cessna' is a substring but not exactly 'cessna'\n",
    "# cessna_rows = df[df['Make'].str.contains('socata', case=False, na=False) & (df['Make'].str.lower() != 'socata')]\n",
    "# cessna_rows"
   ]
  },
  {
   "cell_type": "markdown",
   "id": "30c657b7",
   "metadata": {},
   "source": [
    "###### Let's standardize all manufacturers' names and focus on those with at least 100 instances int he dataset"
   ]
  },
  {
   "cell_type": "code",
   "execution_count": null,
   "id": "8dd0204f",
   "metadata": {},
   "outputs": [],
   "source": [
    "def replace_make(df, make_list):\n",
    "    \"\"\"\n",
    "    Replace all values in the 'Make' column that contain any of the specified names with the standardized name.\n",
    "\n",
    "    Parameters:\n",
    "    df (pd.DataFrame): The DataFrame containing the 'Make' column.\n",
    "    make_list (list of str): A list of names to standardize.\n",
    "\n",
    "    Returns:\n",
    "    pd.DataFrame: The DataFrame with standardized 'Make' values.\n",
    "    \"\"\"\n",
    "    for maker in make_list:\n",
    "        df.loc[df['Make'].str.contains(maker, case=False, na=False), 'Make'] = maker.lower()\n",
    "    return df\n",
    "\n",
    "make_list = ['cessna', 'piper', 'beech', 'boeing', 'mooney', 'grumman', 'robinson', 'hughes', 'air tractor', 'aeronca', \n",
    "            'maule', 'champion', 'mcdonnell douglas', 'stinson', 'luscombe', 'taylorcraft', 'north american', \n",
    "            'rockwell', 'enstrom', 'ayres', 'cirrus', 'eurocopter', 'sikorsky', 'ercoupe', 'embraer', 'swearingenr',\n",
    "            'schleicher', 'waco', 'burkhart grob', 'airbus', 'socata', 'gulfstream']\n",
    "\n",
    "df = replace_make(df, make_list)"
   ]
  },
  {
   "cell_type": "markdown",
   "id": "2c4e4641",
   "metadata": {},
   "source": [
    "Some companies have undergone transitions and are known by more than one name. Let's address those"
   ]
  },
  {
   "cell_type": "code",
   "execution_count": null,
   "id": "635bb63a",
   "metadata": {},
   "outputs": [],
   "source": [
    "# Replace all string containing 'bell' that are not 'bellanca' with 'bell'\n",
    "df['Make'] = df['Make'].apply(lambda x: 'bell' if isinstance(x, str) and 'bell' in x.lower() and x.lower() != 'bellanca' else x)"
   ]
  },
  {
   "cell_type": "code",
   "execution_count": null,
   "id": "34a25fdb",
   "metadata": {},
   "outputs": [],
   "source": [
    "df['Make'] = df['Make'].apply(lambda x: 'schweizer' if isinstance(x, str) and 'schweizer' in x.lower() and 'gulfstream' not in x.lower() else x)"
   ]
  },
  {
   "cell_type": "code",
   "execution_count": null,
   "id": "39546799",
   "metadata": {},
   "outputs": [],
   "source": [
    "df.loc[df['Make'].str.contains('havilland', case=False, na=False), 'Make'] = 'de havilland'"
   ]
  },
  {
   "cell_type": "code",
   "execution_count": null,
   "id": "563b26a8",
   "metadata": {},
   "outputs": [],
   "source": [
    "df.loc[df['Make'].str.contains('hiller', case=False, na=False), 'Make'] = 'fairchild hiller'"
   ]
  },
  {
   "cell_type": "code",
   "execution_count": null,
   "id": "d8f1cfdc",
   "metadata": {},
   "outputs": [],
   "source": [
    "df.loc[df['Make'].str.contains('fairchild', case=False, na=False), 'Make'] = 'fairchild hiller'"
   ]
  },
  {
   "cell_type": "code",
   "execution_count": null,
   "id": "a665d90f",
   "metadata": {},
   "outputs": [],
   "source": [
    "df.loc[df['Make'].str.contains('douglas', case=False, na=False), 'Make'] = 'mcdonnell douglas'"
   ]
  },
  {
   "cell_type": "code",
   "execution_count": null,
   "id": "bfd4554d",
   "metadata": {},
   "outputs": [],
   "source": [
    "# the same company\n",
    "df.loc[df['Make'].str.contains('firefly balloons', case=False, na=False), 'Make'] = 'balloon works'"
   ]
  },
  {
   "cell_type": "code",
   "execution_count": null,
   "id": "2070678c",
   "metadata": {},
   "outputs": [],
   "source": [
    "df.loc[df['Make'].str.contains('aviat aircraft', case=False, na=False), 'Make'] = 'aviat'"
   ]
  },
  {
   "cell_type": "code",
   "execution_count": null,
   "id": "4f548aac",
   "metadata": {},
   "outputs": [],
   "source": [
    "df.loc[df['Make'].str.contains('ryan aeronautical', case=False, na=False), 'Make'] = 'ryan' \n",
    "df.loc[df['Make'].str.contains('ryan aeronautics', case=False, na=False), 'Make'] = 'ryan' \n",
    "df.loc[df['Make'].str.contains('ryan-navion', case=False, na=False), 'Make'] = 'ryan' "
   ]
  },
  {
   "cell_type": "code",
   "execution_count": null,
   "id": "6c3dabbe",
   "metadata": {},
   "outputs": [],
   "source": [
    "df.loc[df['Make'].str.contains('helio aircraft ltd', case=False, na=False), 'Make'] = 'helio' "
   ]
  },
  {
   "cell_type": "code",
   "execution_count": null,
   "id": "a3098079",
   "metadata": {},
   "outputs": [],
   "source": [
    "df['Make'].value_counts().nunique()"
   ]
  },
  {
   "cell_type": "markdown",
   "id": "188106e4",
   "metadata": {},
   "source": [
    "### Now let's standardize all 'Model' varieble values"
   ]
  },
  {
   "cell_type": "code",
   "execution_count": null,
   "id": "2e4198ec",
   "metadata": {},
   "outputs": [],
   "source": [
    "# Convert all values in 'Model' to lower case\n",
    "df.loc[:,'Model'] = df['Model'].str.lower()\n",
    "\n",
    "import re\n",
    "# Remove all whitespaces\n",
    "df.loc[:, 'Model'] = df['Model'].str.replace(r'\\s+', '', regex=True)\n",
    "\n",
    "# Remove all symbols, leaving only letters and digits\n",
    "df.loc[:,'Model'] = df['Model'].str.replace(r'[^a-zA-Z0-9]', '', regex=True)\n",
    "\n",
    "df.head()"
   ]
  },
  {
   "cell_type": "markdown",
   "id": "373ad22a",
   "metadata": {},
   "source": [
    "### Let's create new column 'Maker_Model' where we combine the name of the maker and the model"
   ]
  },
  {
   "cell_type": "code",
   "execution_count": null,
   "id": "70c1171b",
   "metadata": {},
   "outputs": [],
   "source": [
    "df.loc[:, 'Maker_Model'] = df['Make'] + '_' + df['Model']"
   ]
  },
  {
   "cell_type": "code",
   "execution_count": null,
   "id": "d56e4a46",
   "metadata": {},
   "outputs": [],
   "source": [
    "df['Maker_Model'].value_counts()"
   ]
  },
  {
   "cell_type": "code",
   "execution_count": null,
   "id": "49ce5a1a",
   "metadata": {},
   "outputs": [],
   "source": [
    "df['Maker_Model'].value_counts().nunique()"
   ]
  },
  {
   "cell_type": "code",
   "execution_count": null,
   "id": "5fb54124",
   "metadata": {},
   "outputs": [],
   "source": [
    "df.shape"
   ]
  },
  {
   "cell_type": "code",
   "execution_count": null,
   "id": "79149d46",
   "metadata": {},
   "outputs": [],
   "source": [
    "# Calculate the percentage of missing values in each column\n",
    "(df.isnull().sum() * 100 / len(df)).round(2)"
   ]
  },
  {
   "cell_type": "markdown",
   "id": "7e4dd170",
   "metadata": {},
   "source": [
    "Filter out rows where 'Make' value counts are at least 20"
   ]
  },
  {
   "cell_type": "code",
   "execution_count": null,
   "id": "14f0a2dc",
   "metadata": {},
   "outputs": [],
   "source": [
    "df = df.groupby('Make').filter(lambda x: len(x) >= 20)"
   ]
  },
  {
   "cell_type": "markdown",
   "id": "6661a8b3",
   "metadata": {},
   "source": [
    "Filter rows where 'Maker_Model' value counts are at least 20"
   ]
  },
  {
   "cell_type": "code",
   "execution_count": null,
   "id": "9ecc58f0",
   "metadata": {},
   "outputs": [],
   "source": [
    "df = df.groupby('Maker_Model').filter(lambda x: len(x) >= 20)"
   ]
  },
  {
   "cell_type": "markdown",
   "id": "ee5c0aa7",
   "metadata": {},
   "source": [
    "##### The number of distinct Maker_Model's is too large. We used CatGPT to group models based on similarity"
   ]
  },
  {
   "cell_type": "code",
   "execution_count": null,
   "id": "d4d2fed2",
   "metadata": {},
   "outputs": [],
   "source": [
    "mapping_dict = {\n",
    "    'aero commander_100': 'aero_commander_100',\n",
    "    'aero commander_500b': 'aero_commander_500',\n",
    "    'aero commander_s2r': 'aero_commander_S2',\n",
    "    'aeronca_11ac': 'aeronca_11',\n",
    "    'aeronca_15ac': 'aeronca_15',\n",
    "    'aeronca_7ac': 'aeronca_7',\n",
    "    'aeronca_7bcm': 'aeronca_7',\n",
    "    'aeronca_7ec': 'aeronca_7',\n",
    "    'aerospatiale_as350b': 'aerospatiale_as350',\n",
    "    'aerospatiale_as350d': 'aerospatiale_as350',\n",
    "    'aerospatiale_sa315b': 'aerospatiale_sa315',\n",
    "    'aerospatiale_sa316b': 'aerospatiale_sa316',\n",
    "    'air tractor_at301': 'air_tractor_at300',\n",
    "    'air tractor_at400': 'air_tractor_at400',\n",
    "    'air tractor_at401': 'air_tractor_at400',\n",
    "    'air tractor_at402': 'air_tractor_at400',\n",
    "    'air tractor_at502': 'air_tractor_at500',\n",
    "    'air tractor_at502b': 'air_tractor_at500',\n",
    "    'air tractor_at602': 'air_tractor_at600',\n",
    "    'air tractor_at802': 'air_tractor_at800',\n",
    "    'air tractor_at802a': 'air_tractor_at800',\n",
    "    'alon_a2': 'alon_a2',\n",
    "    'american_aa1': 'american_aa1',\n",
    "    'aviat_a1': 'aviat_a1',\n",
    "    'aviat_a1b': 'aviat_a1',\n",
    "    'ayres_s2r': 'ayres_s2r',\n",
    "    'ayres_s2rt34': 'ayres_s2r',\n",
    "    'balloon works_firefly7': 'balloon_works_firefly',\n",
    "    'beech_1900c': 'beech_1900',\n",
    "    'beech_1900d': 'beech_1900',\n",
    "    'beech_200': 'beech_200',\n",
    "    'beech_23': 'beech_23',\n",
    "    'beech_35': 'beech_35',\n",
    "    'beech_35b33': 'beech_35',\n",
    "    'beech_35c33': 'beech_35',\n",
    "    'beech_36': 'beech_36',\n",
    "    'beech_55': 'beech_55',\n",
    "    'beech_58': 'beech_58',\n",
    "    'beech_58p': 'beech_58',\n",
    "    'beech_60': 'beech_60',\n",
    "    'beech_76': 'beech_76',\n",
    "    'beech_77': 'beech_77',\n",
    "    'beech_95': 'beech_95',\n",
    "    'beech_95a55': 'beech_95',\n",
    "    'beech_95b55': 'beech_95',\n",
    "    'beech_95b55t42a': 'beech_95',\n",
    "    'beech_95c55': 'beech_95',\n",
    "    'beech_99': 'beech_99',\n",
    "    'beech_a23': 'beech_23',\n",
    "    'beech_a2319': 'beech_23',\n",
    "    'beech_a2324': 'beech_23',\n",
    "    'beech_a23a': 'beech_23',\n",
    "    'beech_a24r': 'beech_24',\n",
    "    'beech_a35': 'beech_35',\n",
    "    'beech_a36': 'beech_36',\n",
    "    'beech_a36tc': 'beech_36',\n",
    "    'beech_b19': 'beech_19',\n",
    "    'beech_b200': 'beech_200',\n",
    "    'beech_b23': 'beech_23',\n",
    "    'beech_b24r': 'beech_24',\n",
    "    'beech_b35': 'beech_35',\n",
    "    'beech_b36tc': 'beech_36',\n",
    "    'beech_b60': 'beech_60',\n",
    "    'beech_b90': 'beech_90',\n",
    "    'beech_be58': 'beech_58',\n",
    "    'beech_c23': 'beech_23',\n",
    "    'beech_c24r': 'beech_24',\n",
    "    'beech_c35': 'beech_35',\n",
    "    'beech_c45h': 'beech_45',\n",
    "    'beech_c90': 'beech_90',\n",
    "    'beech_c99': 'beech_99',\n",
    "    'beech_d18s': 'beech_18',\n",
    "    'beech_d35': 'beech_35',\n",
    "    'beech_d55': 'beech_55',\n",
    "    'beech_e18s': 'beech_18',\n",
    "    'beech_e35': 'beech_35',\n",
    "    'beech_e55': 'beech_55',\n",
    "    'beech_e90': 'beech_90',\n",
    "    'beech_f33a': 'beech_33',\n",
    "    'beech_f35': 'beech_35',\n",
    "    'beech_g18s': 'beech_18',\n",
    "    'beech_g35': 'beech_35',\n",
    "    'beech_h35': 'beech_35',\n",
    "    'beech_j35': 'beech_35',\n",
    "    'beech_k35': 'beech_35',\n",
    "    'beech_m35': 'beech_35',\n",
    "    'beech_n35': 'beech_35',\n",
    "    'beech_p35': 'beech_35',\n",
    "    'beech_s35': 'beech_35',\n",
    "    'beech_v35': 'beech_35',\n",
    "    'beech_v35a': 'beech_35',\n",
    "    'beech_v35b': 'beech_35',\n",
    "    'bell_206': 'bell_206',\n",
    "    'bell_206b': 'bell_206',\n",
    "    'bell_206b3': 'bell_206',\n",
    "    'bell_206biii': 'bell_206',\n",
    "    'bell_206l': 'bell_206',\n",
    "    'bell_206l1': 'bell_206',\n",
    "    'bell_206l3': 'bell_206',\n",
    "    'bell_206l4': 'bell_206',\n",
    "    'bell_212': 'bell_212',\n",
    "    'bell_407': 'bell_407',\n",
    "    'bell_47d1': 'bell_47',\n",
    "    'bell_47g': 'bell_47',\n",
    "    'bell_47g2': 'bell_47',\n",
    "    'bell_47g2a': 'bell_47',\n",
    "    'bell_47g3b': 'bell_47',\n",
    "    'bell_47g3b1': 'bell_47',\n",
    "    'bell_47g3b2': 'bell_47',\n",
    "    'bell_47g4a': 'bell_47',\n",
    "    'bell_47g5': 'bell_47',\n",
    "    'bell_oh58a': 'bell_oh58',\n",
    "    'bell_uh1b': 'bell_uh1',\n",
    "    'bell_uh1h': 'bell_uh1',\n",
    "    'bellanca_1730': 'bellanca_1730',\n",
    "    'bellanca_1730a': 'bellanca_1730',\n",
    "    'bellanca_1731atc': 'bellanca_1731',\n",
    "    'bellanca_7eca': 'bellanca_7',\n",
    "    'bellanca_7gcaa': 'bellanca_7',\n",
    "    'bellanca_7gcbc': 'bellanca_7',\n",
    "    'bellanca_7kcab': 'bellanca_7',\n",
    "    'bellanca_8gcbc': 'bellanca_8',\n",
    "    'bellanca_8kcab': 'bellanca_8',\n",
    "    'boeing_727200': 'boeing_727',\n",
    "    'boeing_737': 'boeing_737',\n",
    "    'boeing_737200': 'boeing_737',\n",
    "    'boeing_737300': 'boeing_737',\n",
    "    'boeing_7377h4': 'boeing_737',\n",
    "    'boeing_a75': 'boeing_a75',\n",
    "    'boeing_a75n1': 'boeing_a75',\n",
    "    'boeing_a75n1pt17': 'boeing_a75',\n",
    "    'boeing_b75n1': 'boeing_b75',\n",
    "    'boeing_e75': 'boeing_e75',\n",
    "    'cessna_120': 'cessna_120',\n",
    "    'cessna_140': 'cessna_140',\n",
    "    'cessna_140a': 'cessna_140',\n",
    "    'cessna_150': 'cessna_150',\n",
    "    'cessna_150c': 'cessna_150',\n",
    "    'cessna_150d': 'cessna_150',\n",
    "    'cessna_150e': 'cessna_150',\n",
    "    'cessna_150f': 'cessna_150',\n",
    "    'cessna_150g': 'cessna_150',\n",
    "    'cessna_150h': 'cessna_150',\n",
    "    'cessna_150j': 'cessna_150',\n",
    "    'cessna_150k': 'cessna_150',\n",
    "    'cessna_150l': 'cessna_150',\n",
    "    'cessna_150m': 'cessna_150',\n",
    "    'cessna_152': 'cessna_152',\n",
    "    'cessna_152ii': 'cessna_152',\n",
    "    'cessna_162': 'cessna_162',\n",
    "    'cessna_170': 'cessna_170',\n",
    "    'cessna_170a': 'cessna_170',\n",
    "    'cessna_170b': 'cessna_170',\n",
    "    'cessna_172': 'cessna_172',\n",
    "    'cessna_172a': 'cessna_172',\n",
    "    'cessna_172b': 'cessna_172',\n",
    "    'cessna_172c': 'cessna_172',\n",
    "    'cessna_172d': 'cessna_172',\n",
    "    'cessna_172e': 'cessna_172',\n",
    "    'cessna_172f': 'cessna_172',\n",
    "    'cessna_172g': 'cessna_172',\n",
    "    'cessna_172h': 'cessna_172',\n",
    "    'cessna_172i': 'cessna_172',\n",
    "    'cessna_172k': 'cessna_172',\n",
    "    'cessna_172l': 'cessna_172',\n",
    "    'cessna_172m': 'cessna_172',\n",
    "    'cessna_172n': 'cessna_172',\n",
    "    'cessna_172p': 'cessna_172',\n",
    "    'cessna_172r': 'cessna_172',\n",
    "    'cessna_172rg': 'cessna_172',\n",
    "    'cessna_172s': 'cessna_172',\n",
    "    'cessna_172xp': 'cessna_172',\n",
    "    'cessna_175': 'cessna_175',\n",
    "    'cessna_175a': 'cessna_175',\n",
    "    'cessna_177': 'cessna_177',\n",
    "    'cessna_177a': 'cessna_177',\n",
    "    'cessna_177b': 'cessna_177',\n",
    "    'cessna_177rg': 'cessna_177',\n",
    "    'cessna_180': 'cessna_180',\n",
    "    'cessna_180a': 'cessna_180',\n",
    "    'cessna_180b': 'cessna_180',\n",
    "    'cessna_180h': 'cessna_180',\n",
    "    'cessna_180j': 'cessna_180',\n",
    "    'cessna_180k': 'cessna_180',\n",
    "    'cessna_182': 'cessna_182',\n",
    "    'cessna_182a': 'cessna_182',\n",
    "    'cessna_182b': 'cessna_182',\n",
    "    'cessna_182c': 'cessna_182',\n",
    "    'cessna_182d': 'cessna_182',\n",
    "    'cessna_182e': 'cessna_182',\n",
    "    'cessna_182f': 'cessna_182',\n",
    "    'cessna_182g': 'cessna_182',\n",
    "    'cessna_182h': 'cessna_182',\n",
    "    'cessna_182j': 'cessna_182',\n",
    "    'cessna_182k': 'cessna_182',\n",
    "    'cessna_182l': 'cessna_182',\n",
    "    'cessna_182m': 'cessna_182',\n",
    "    'cessna_182n': 'cessna_182',\n",
    "    'cessna_182p': 'cessna_182',\n",
    "    'cessna_182q': 'cessna_182',\n",
    "    'cessna_182r': 'cessna_182',\n",
    "    'cessna_182rg': 'cessna_182',\n",
    "    'cessna_182s': 'cessna_182',\n",
    "    'cessna_182t': 'cessna_182',\n",
    "    'cessna_185': 'cessna_185',\n",
    "    'cessna_185e': 'cessna_185',\n",
    "    'cessna_185f': 'cessna_185',\n",
    "    'cessna_188': 'cessna_188',\n",
    "    'cessna_188a': 'cessna_188',\n",
    "    'cessna_188b': 'cessna_188',\n",
    "    'cessna_195': 'cessna_195',\n",
    "    'cessna_195a': 'cessna_195',\n",
    "    'cessna_195b': 'cessna_195',\n",
    "    'cessna_205': 'cessna_205',\n",
    "    'cessna_206': 'cessna_206',\n",
    "    'cessna_206g': 'cessna_206',\n",
    "    'cessna_207': 'cessna_207',\n",
    "    'cessna_207a': 'cessna_207',\n",
    "    'cessna_208': 'cessna_208',\n",
    "    'cessna_208b': 'cessna_208',\n",
    "    'cessna_210': 'cessna_210',\n",
    "    'cessna_210a': 'cessna_210',\n",
    "    'cessna_210b': 'cessna_210',\n",
    "    'cessna_210d': 'cessna_210',\n",
    "    'cessna_210e': 'cessna_210',\n",
    "    'cessna_210l': 'cessna_210',\n",
    "    'cessna_210m': 'cessna_210',\n",
    "    'cessna_210n': 'cessna_210',\n",
    "    'cessna_305a': 'cessna_305',\n",
    "    'cessna_310': 'cessna_310',\n",
    "    'cessna_310c': 'cessna_310',\n",
    "    'cessna_310d': 'cessna_310',\n",
    "    'cessna_310j': 'cessna_310',\n",
    "    'cessna_310k': 'cessna_310',\n",
    "    'cessna_310l': 'cessna_310',\n",
    "    'cessna_310n': 'cessna_310',\n",
    "    'cessna_310q': 'cessna_310',\n",
    "    'cessna_310r': 'cessna_310',\n",
    "    'cessna_320': 'cessna_320',\n",
    "    'cessna_337': 'cessna_337',\n",
    "    'cessna_340': 'cessna_340',\n",
    "    'cessna_340a': 'cessna_340',\n",
    "    'cessna_401': 'cessna_401',\n",
    "    'cessna_402': 'cessna_402',\n",
    "    'cessna_402b': 'cessna_402',\n",
    "    'cessna_402c': 'cessna_402',\n",
    "    'cessna_404': 'cessna_404',\n",
    "    'cessna_414': 'cessna_414',\n",
    "    'cessna_414a': 'cessna_414',\n",
    "    'cessna_421': 'cessna_421',\n",
    "    'cessna_421b': 'cessna_421',\n",
    "    'cessna_421c': 'cessna_421',\n",
    "    'cessna_425': 'cessna_425',\n",
    "    'cessna_441': 'cessna_441',\n",
    "    'cessna_550': 'cessna_550',\n",
    "    'cessna_a150k': 'cessna_150',\n",
    "    'cessna_a150l': 'cessna_150',\n",
    "    'cessna_a150m': 'cessna_150',\n",
    "    'cessna_a152': 'cessna_152',\n",
    "    'cessna_a185': 'cessna_185',\n",
    "    'cessna_a185e': 'cessna_185',\n",
    "    'cessna_a185f': 'cessna_185',\n",
    "    'cessna_a188': 'cessna_188',\n",
    "    'cessna_a188b': 'cessna_188',\n",
    "    'cessna_c152': 'cessna_152',\n",
    "    'cessna_c172': 'cessna_172',\n",
    "    'cessna_p210': 'cessna_210',\n",
    "    'cessna_p210n': 'cessna_210',\n",
    "    'cessna_r172k': 'cessna_172',\n",
    "    'cessna_r182': 'cessna_182',\n",
    "    'cessna_t182t': 'cessna_182',\n",
    "    'cessna_t188c': 'cessna_188',\n",
    "    'cessna_t206h': 'cessna_206',\n",
    "    'cessna_t207a': 'cessna_207',\n",
    "    'cessna_t210': 'cessna_210',\n",
    "    'cessna_t210f': 'cessna_210',\n",
    "    'cessna_t210l': 'cessna_210',\n",
    "    'cessna_t210m': 'cessna_210',\n",
    "    'cessna_t210n': 'cessna_210',\n",
    "    'cessna_t303': 'cessna_303',\n",
    "    'cessna_t310r': 'cessna_310',\n",
    "    'cessna_t337g': 'cessna_337',\n",
    "    'cessna_tr182': 'cessna_182',\n",
    "    'cessna_tu206': 'cessna_206',\n",
    "    'cessna_tu206f': 'cessna_206',\n",
    "    'cessna_tu206g': 'cessna_206',\n",
    "    'cessna_u206': 'cessna_206',\n",
    "    'cessna_u206f': 'cessna_206',\n",
    "    'cessna_u206g': 'cessna_206',\n",
    "    'north american_t6g': 'north_american_t6',\n",
    "    'champion_7ec': 'champion_7',\n",
    "    'champion_7eca': 'champion_7',\n",
    "    'champion_7fc': 'champion_7',\n",
    "    'champion_7gcaa': 'champion_7',\n",
    "    'champion_7gcbc': 'champion_7',\n",
    "    'champion_7kcab': 'champion_7',\n",
    "    'champion_8gcbc': 'champion_8',\n",
    "    'champion_8kcab': 'champion_8',\n",
    "    'cirrus_sr20': 'cirrus_sr20',\n",
    "    'cirrus_sr22': 'cirrus_sr22',\n",
    "    'consolidated aeronautics inc._lakela4200': 'consolidated_lakela4200',\n",
    "    'de havilland_dhc2': 'de_havilland_dhc2',\n",
    "    'de havilland_dhc3': 'de_havilland_dhc3',\n",
    "    'diamond aircraft ind inc_da20c1': 'diamond_da20',\n",
    "    'diamond aircraft ind inc_da40': 'diamond_da40',\n",
    "    'eagle aircraft co._dw1': 'eagle_dw1',\n",
    "    'enstrom_280c': 'enstrom_280',\n",
    "    'enstrom_f28a': 'enstrom_f28',\n",
    "    'enstrom_f28c': 'enstrom_f28',\n",
    "    'enstrom_f28f': 'enstrom_f28',\n",
    "    'ercoupe_415c': 'ercoupe_415',\n",
    "    'ercoupe_415d': 'ercoupe_415',\n",
    "    'eurocopter_as350b2': 'eurocopter_as350',\n",
    "    'eurocopter_as350b3': 'eurocopter_as350',\n",
    "    'fairchild hiller_fh1100': 'fairchild_fh1100',\n",
    "    'fairchild hiller_sa227ac': 'fairchild_sa227',\n",
    "    'fairchild hiller_uh12b': 'fairchild_uh12',\n",
    "    'fairchild hiller_uh12c': 'fairchild_uh12',\n",
    "    'fairchild hiller_uh12d': 'fairchild_uh12',\n",
    "    'fairchild hiller_uh12e': 'fairchild_uh12',\n",
    "    'flight design gmbh_ctls': 'flight_design_ctls',\n",
    "    'globe_gc1b': 'globe_gc1',\n",
    "    'great lakes_2t1a2': 'great_lakes_2t1',\n",
    "    'grumman_aa1b': 'grumman_aa1',\n",
    "    'grumman_aa1c': 'grumman_aa1',\n",
    "    'grumman_aa5': 'grumman_aa5',\n",
    "    'grumman_aa5a': 'grumman_aa5',\n",
    "    'grumman_aa5b': 'grumman_aa5',\n",
    "    'grumman_g164': 'grumman_g164',\n",
    "    'grumman_g164a': 'grumman_g164',\n",
    "    'grumman_g164b': 'grumman_g164',\n",
    "    'gulfstream_aa5a': 'gulfstream_aa5',\n",
    "    'gulfstream_aa5b': 'gulfstream_aa5',\n",
    "    'gulfstream_g164b': 'gulfstream_g164',\n",
    "    'helio_h295': 'helio_h295',\n",
    "    'hughes_269a': 'hughes_269',\n",
    "    'hughes_269b': 'hughes_269',\n",
    "    'hughes_269c': 'hughes_269',\n",
    "    'hughes_369': 'hughes_369',\n",
    "    'hughes_369d': 'hughes_369',\n",
    "    'hughes_369e': 'hughes_369',\n",
    "    'hughes_369hs': 'hughes_369',\n",
    "    'hughes_oh6a': 'hughes_oh6',\n",
    "    'lake_la4': 'lake_la4',\n",
    "    'lake_la4200': 'lake_la4200',\n",
    "    'let_blanikl13': 'let_blanik_l13',\n",
    "    'let_l13': 'let_l13',\n",
    "    'luscombe_8': 'luscombe_8',\n",
    "    'luscombe_8a': 'luscombe_8',\n",
    "    'luscombe_8e': 'luscombe_8',\n",
    "    'luscombe_8f': 'luscombe_8',\n",
    "    'maule_m4': 'maule_m4',\n",
    "    'maule_m4220c': 'maule_m4',\n",
    "    'maule_m5': 'maule_m5',\n",
    "    'maule_m5210c': 'maule_m5',\n",
    "    'maule_m5235c': 'maule_m5',\n",
    "    'maule_m6235': 'maule_m6',\n",
    "    'maule_mx7': 'maule_mx7',\n",
    "    'mcdonnell douglas_369e': 'mcdonnell_douglas_369',\n",
    "    'mcdonnell douglas_dc1010': 'mcdonnell_douglas_dc10',\n",
    "    'mcdonnell douglas_dc931': 'mcdonnell_douglas_dc9',\n",
    "    'mcdonnell douglas_dc932': 'mcdonnell_douglas_dc9',\n",
    "    'mcdonnell douglas_dc982': 'mcdonnell_douglas_dc9',\n",
    "    'mcdonnell douglas_md88': 'mcdonnell_douglas_md88',\n",
    "    'mitsubishi_mu2b60': 'mitsubishi_mu2',\n",
    "    'mooney_m20': 'mooney_m20',\n",
    "    'mooney_m20a': 'mooney_m20',\n",
    "    'mooney_m20b': 'mooney_m20',\n",
    "    'mooney_m20c': 'mooney_m20',\n",
    "    'mooney_m20e': 'mooney_m20',\n",
    "    'mooney_m20f': 'mooney_m20',\n",
    "    'mooney_m20j': 'mooney_m20',\n",
    "    'mooney_m20k': 'mooney_m20',\n",
    "    'mooney_m20m': 'mooney_m20',\n",
    "    'navion_a': 'navion_a',\n",
    "    'north american_at6d': 'north_american_at6',\n",
    "    'north american_navion': 'north_american_navion',\n",
    "    'north american_p51d': 'north_american_p51',\n",
    "    'north american_snj5': 'north_american_snj',\n",
    "    'north american_t6': 'north_american_t6',\n",
    "    'piper_j3': 'piper_j3',\n",
    "    'piper_j3c': 'piper_j3',\n",
    "    'piper_j3c65': 'piper_j3',\n",
    "    'piper_j5a': 'piper_j5',\n",
    "    'piper_pa11': 'piper_pa11',\n",
    "    'piper_pa12': 'piper_pa12',\n",
    "    'piper_pa14': 'piper_pa14',\n",
    "    'piper_pa16': 'piper_pa16',\n",
    "    'piper_pa18': 'piper_pa18',\n",
    "    'piper_pa18135': 'piper_pa18',\n",
    "    'piper_pa18150': 'piper_pa18',\n",
    "    'piper_pa18160': 'piper_pa18',\n",
    "    'piper_pa18a': 'piper_pa18',\n",
    "    'piper_pa18a150': 'piper_pa18',\n",
    "    'piper_pa20': 'piper_pa20',\n",
    "    'piper_pa22': 'piper_pa22',\n",
    "    'piper_pa22108': 'piper_pa22',\n",
    "    'piper_pa22135': 'piper_pa22',\n",
    "    'piper_pa22150': 'piper_pa22',\n",
    "    'piper_pa22160': 'piper_pa22',\n",
    "    'piper_pa23': 'piper_pa23',\n",
    "    'piper_pa23150': 'piper_pa23',\n",
    "    'piper_pa23160': 'piper_pa23',\n",
    "    'piper_pa23250': 'piper_pa23',\n",
    "    'piper_pa24': 'piper_pa24',\n",
    "    'piper_pa24180': 'piper_pa24',\n",
    "    'piper_pa24250': 'piper_pa24',\n",
    "    'piper_pa24260': 'piper_pa24',\n",
    "    'piper_pa25': 'piper_pa25',\n",
    "    'piper_pa25235': 'piper_pa25',\n",
    "    'piper_pa25260': 'piper_pa25',\n",
    "    'piper_pa28': 'piper_pa28',\n",
    "    'piper_pa28140': 'piper_pa28',\n",
    "    'piper_pa28150': 'piper_pa28',\n",
    "    'piper_pa28151': 'piper_pa28',\n",
    "    'piper_pa28160': 'piper_pa28',\n",
    "    'piper_pa28161': 'piper_pa28',\n",
    "    'piper_pa28180': 'piper_pa28',\n",
    "    'piper_pa28181': 'piper_pa28',\n",
    "    'piper_pa28235': 'piper_pa28',\n",
    "    'piper_pa28236': 'piper_pa28',\n",
    "    'piper_pa28r': 'piper_pa28r',\n",
    "    'piper_pa28r180': 'piper_pa28r',\n",
    "    'piper_pa28r200': 'piper_pa28r',\n",
    "    'piper_pa28r201': 'piper_pa28r',\n",
    "    'piper_pa28r201t': 'piper_pa28r',\n",
    "    'piper_pa28rt201': 'piper_pa28r',\n",
    "    'piper_pa28rt201t': 'piper_pa28r',\n",
    "    'piper_pa30': 'piper_pa30',\n",
    "    'piper_pa31': 'piper_pa31',\n",
    "    'piper_pa31310': 'piper_pa31',\n",
    "    'piper_pa31325': 'piper_pa31',\n",
    "    'piper_pa31350': 'piper_pa31',\n",
    "    'piper_pa31p': 'piper_pa31',\n",
    "    'piper_pa31t': 'piper_pa31',\n",
    "    'piper_pa32': 'piper_pa32',\n",
    "    'piper_pa32260': 'piper_pa32',\n",
    "    'piper_pa32300': 'piper_pa32',\n",
    "    'piper_pa32301': 'piper_pa32',\n",
    "    'piper_pa32r': 'piper_pa32r',\n",
    "    'piper_pa32r300': 'piper_pa32r',\n",
    "    'piper_pa32r301': 'piper_pa32r',\n",
    "    'piper_pa32r301t': 'piper_pa32r',\n",
    "    'piper_pa32rt': 'piper_pa32rt',\n",
    "    'piper_pa32rt300': 'piper_pa32rt',\n",
    "    'piper_pa32rt300t': 'piper_pa32rt',\n",
    "    'piper_pa34': 'piper_pa34',\n",
    "    'piper_pa34200': 'piper_pa34',\n",
    "    'piper_pa34200t': 'piper_pa34',\n",
    "    'piper_pa34220t': 'piper_pa34',\n",
    "    'piper_pa36': 'piper_pa36',\n",
    "    'piper_pa36285': 'piper_pa36',\n",
    "    'piper_pa36300': 'piper_pa36',\n",
    "    'piper_pa36375': 'piper_pa36',\n",
    "    'piper_pa38': 'piper_pa38',\n",
    "    'piper_pa38112': 'piper_pa38',\n",
    "    'piper_pa44180': 'piper_pa44',\n",
    "    'piper_pa46': 'piper_pa46',\n",
    "    'piper_pa46310p': 'piper_pa46',\n",
    "    'piper_pa46350p': 'piper_pa46',\n",
    "    'piper_pa46500tp': 'piper_pa46',\n",
    "    'piper_pa60': 'piper_pa60',\n",
    "    'piper_pa60601p': 'piper_pa60',\n",
    "    'pitts_s2b': 'pitts_s2',\n",
    "    'republic_rc3': 'republic_rc3',\n",
    "    'robinson_r22': 'robinson_r22',\n",
    "    'robinson_r22a': 'robinson_r22',\n",
    "    'robinson_r22b': 'robinson_r22',\n",
    "    'robinson_r22beta': 'robinson_r22',\n",
    "    'robinson_r44': 'robinson_r44',\n",
    "    'robinson_r44ii': 'robinson_r44',\n",
    "    'robinson_r66': 'robinson_r66',\n",
    "    'rockwell_112a': 'rockwell_112',\n",
    "    'rockwell_114': 'rockwell_114',\n",
    "    'rockwell_s2r': 'rockwell_s2r',\n",
    "    'ryan_navion': 'ryan_navion',\n",
    "    'ryan_st3kr': 'ryan_st3',\n",
    "    'schleicher_asw20': 'schleicher_asw20',\n",
    "    'schweizer_269c': 'schweizer_269',\n",
    "    'schweizer_269c1': 'schweizer_269',\n",
    "    'schweizer_g164a': 'schweizer_g164',\n",
    "    'schweizer_g164b': 'schweizer_g164',\n",
    "    'schweizer_sgs134': 'schweizer_sgs',\n",
    "    'schweizer_sgs233': 'schweizer_sgs',\n",
    "    'schweizer_sgs233a': 'schweizer_sgs',\n",
    "    'sikorsky_s76a': 'sikorsky_s76',\n",
    "    'socata_tbm700': 'socata_tbm700',\n",
    "    'stinson_108': 'stinson_108',\n",
    "    'stinson_1081': 'stinson_108',\n",
    "    'stinson_1082': 'stinson_108',\n",
    "    'stinson_1083': 'stinson_108',\n",
    "    'swearingen_sa226tc': 'swearingen_sa226',\n",
    "    'taylorcraft_bc12d': 'taylorcraft_bc12',\n",
    "    'taylorcraft_bl65': 'taylorcraft_bl65',\n",
    "    'taylorcraft_f19': 'taylorcraft_f19',\n",
    "    'waco_upf7': 'waco_upf7',\n",
    "    'weatherly_201b': 'weatherly_201',\n",
    "    'wsk pzl mielec_m18a': 'wsk_pzl_m18'   \n",
    "}\n",
    "\n",
    "df['General_Maker_Model'] = df['Maker_Model'].map(mapping_dict)"
   ]
  },
  {
   "cell_type": "code",
   "execution_count": null,
   "id": "acb6e670",
   "metadata": {},
   "outputs": [],
   "source": [
    "general_unique = (df['General_Maker_Model'].unique()).tolist()\n",
    "display(len(general_unique))\n",
    "# general_unique = sorted(general_unique)\n",
    "# general_unique"
   ]
  },
  {
   "cell_type": "code",
   "execution_count": null,
   "id": "9e60a3ea",
   "metadata": {},
   "outputs": [],
   "source": [
    "df[df['Maker_Model'] == 'beech_s35']\n",
    "df[df['Maker_Model'] == 'cessna_t210m']"
   ]
  },
  {
   "cell_type": "markdown",
   "id": "36402751",
   "metadata": {},
   "source": [
    "##### Not every aircraft model is still in use. We used ChatGPT to determine the vintage models and remove ethem from the dataset"
   ]
  },
  {
   "cell_type": "code",
   "execution_count": null,
   "id": "53b4b99d",
   "metadata": {},
   "outputs": [],
   "source": [
    "# Aircraft that are no longer in use (based on ChatGPT)\n",
    "vintage = ['aero_commander_100', 'aero_commander_500', 'aero_commander_S2', 'aeronca_11', 'aeronca_15', \n",
    "           'aeronca_7', 'alon_a2', 'bellanca_1730', 'bellanca_1731', 'bellanca_7', 'bellanca_8', 'boeing_a75', \n",
    "           'boeing_b75', 'boeing_e75', 'globe_gc1', 'great_lakes_2t1', 'republic_rc3', 'ryan_st3', \n",
    "           'schweizer_sgs134', 'schweizer_sgs233', 'taylorcraft_bc12d', 'taylorcraft_bl65', 'taylorcraft_f19', \n",
    "           'waco_upf7']\n",
    "\n",
    "vintage_df = df[df['General_Maker_Model'].isin(vintage)]\n",
    "\n",
    "vintage_df.shape"
   ]
  },
  {
   "cell_type": "code",
   "execution_count": null,
   "id": "992989b1",
   "metadata": {},
   "outputs": [],
   "source": [
    "# Keep aircraft that are still in use in df\n",
    "df = df[~df['General_Maker_Model'].isin(vintage)]\n",
    "\n",
    "df.shape"
   ]
  },
  {
   "cell_type": "markdown",
   "id": "10eab176",
   "metadata": {},
   "source": [
    "Lets calculate the number of people on board each flight for future statistics calculaations"
   ]
  },
  {
   "cell_type": "code",
   "execution_count": null,
   "id": "e7537756",
   "metadata": {},
   "outputs": [],
   "source": [
    "df['Total_On_Board'] = (df['Total.Fatal.Injuries'] + \n",
    "                        df['Total.Serious.Injuries'] + \n",
    "                        df['Total.Minor.Injuries'] + \n",
    "                        df['Total.Uninjured'])"
   ]
  },
  {
   "cell_type": "code",
   "execution_count": null,
   "id": "ede2b5c8",
   "metadata": {},
   "outputs": [],
   "source": [
    "df.head()"
   ]
  },
  {
   "cell_type": "code",
   "execution_count": null,
   "id": "694c2adb",
   "metadata": {},
   "outputs": [],
   "source": [
    "df['Total_On_Board'].value_counts().sort_index()"
   ]
  },
  {
   "cell_type": "code",
   "execution_count": null,
   "id": "611db663",
   "metadata": {},
   "outputs": [],
   "source": [
    "df[df['Total_On_Board'] == 0]"
   ]
  },
  {
   "cell_type": "markdown",
   "id": "c252c06a",
   "metadata": {},
   "source": [
    "Remove instances where the aircraft was unoccupied when an accident happened"
   ]
  },
  {
   "cell_type": "code",
   "execution_count": null,
   "id": "3000257b",
   "metadata": {},
   "outputs": [],
   "source": [
    "df = df[df['Total_On_Board'] != 0]"
   ]
  },
  {
   "cell_type": "markdown",
   "id": "a0590d0e",
   "metadata": {},
   "source": [
    "##### Not every General_Maker_Model has enough instances to conduct statistical analysis. Let's remove those with less than 20 instances"
   ]
  },
  {
   "cell_type": "code",
   "execution_count": null,
   "id": "aab877e8",
   "metadata": {},
   "outputs": [],
   "source": [
    "# Filter rows where 'General_Maker_Model' value counts are at least 20\n",
    "df = df.groupby('General_Maker_Model').filter(lambda x: len(x) >= 20)"
   ]
  },
  {
   "cell_type": "code",
   "execution_count": null,
   "id": "230aeb5f",
   "metadata": {},
   "outputs": [],
   "source": [
    "# Set display options to show all rows\n",
    "pd.set_option('display.max_rows', None)\n",
    "\n",
    "df['General_Maker_Model'].value_counts()"
   ]
  },
  {
   "cell_type": "markdown",
   "id": "6af70549",
   "metadata": {},
   "source": [
    "Let's scheck how many people were on board each fligh"
   ]
  },
  {
   "cell_type": "code",
   "execution_count": null,
   "id": "f4303d3a",
   "metadata": {},
   "outputs": [],
   "source": [
    "df['Total_On_Board'].value_counts().sort_index()"
   ]
  },
  {
   "cell_type": "code",
   "execution_count": null,
   "id": "65e56c8c",
   "metadata": {},
   "outputs": [],
   "source": [
    "df[df['Total_On_Board'] == 408]"
   ]
  },
  {
   "cell_type": "code",
   "execution_count": null,
   "id": "c6d998c4",
   "metadata": {},
   "outputs": [],
   "source": [
    "# Calculate the percentage of missing values in each column\n",
    "(df.isnull().sum() * 100 / len(df)).round(2)"
   ]
  },
  {
   "cell_type": "code",
   "execution_count": null,
   "id": "15e2557d",
   "metadata": {},
   "outputs": [],
   "source": [
    "df.shape"
   ]
  },
  {
   "cell_type": "markdown",
   "id": "50123d6b",
   "metadata": {},
   "source": [
    "There are no missing values in the dataset. Let's save it to AviationData_CLEAN.csv"
   ]
  },
  {
   "cell_type": "code",
   "execution_count": null,
   "id": "c3d0eb6b",
   "metadata": {},
   "outputs": [],
   "source": [
    "df.to_csv('AviationData_CLEAN.csv', index=True)"
   ]
  }
 ],
 "metadata": {
  "kernelspec": {
   "display_name": "Python (learn-env)",
   "language": "python",
   "name": "learn-env"
  },
  "language_info": {
   "codemirror_mode": {
    "name": "ipython",
    "version": 3
   },
   "file_extension": ".py",
   "mimetype": "text/x-python",
   "name": "python",
   "nbconvert_exporter": "python",
   "pygments_lexer": "ipython3",
   "version": "3.12.2"
  }
 },
 "nbformat": 4,
 "nbformat_minor": 5
}
